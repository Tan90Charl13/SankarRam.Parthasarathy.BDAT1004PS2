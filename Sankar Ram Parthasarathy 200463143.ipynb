{
 "cells": [
  {
   "cell_type": "markdown",
   "metadata": {},
   "source": [
    "Question 1. Data Types\n",
    "\n",
    "    5-   Int\n",
    "    5.0- Float\n",
    "    5>1- Int\n",
    "    '5'- Char\n",
    "    5*2- Int\n",
    "    '5'*2- Char and Int\n",
    "    '5'+'2'- String\n",
    "    5/2- Float\n",
    "    5//2-  Int\n",
    "    [5,2,1]- Array\n",
    "    5 in [1,4,6]- Array\n",
    "    pi- Const\n"
   ]
  },
  {
   "cell_type": "code",
   "execution_count": 1,
   "metadata": {},
   "outputs": [
    {
     "ename": "Unhandled Exception",
     "evalue": "(3,1): error CS7021: Cannot declare namespace in script code",
     "output_type": "error",
     "traceback": [
      "(3,1): error CS7021: Cannot declare namespace in script code"
     ]
    }
   ],
   "source": [
    "//Question 2.  Part a,b,c\n",
    "using System;\n",
    "\n",
    "namespace Problemset1\n",
    "{\n",
    "    class Program\n",
    "    {\n",
    "        static void Main(string[] args)\n",
    "        {\n",
    "            int i, j, k;\n",
    "            string supe = \"supercalifragilisticexpialidocious\";\n",
    "            string hon = \"Honorificabilitudiniatibus\";\n",
    "            string bab = \"Bababadalgharaghtakamminarronnkonn\";\n",
    "           \n",
    "            \n",
    "                \n",
    "            \n",
    "            i = supe.Length;\n",
    "            j = hon.Length;\n",
    "            k = bab.Length;\n",
    "            Console.WriteLine(\"The Length of the string is \" + i);\n",
    "            Console.WriteLine(supe.Contains(\"ice\"));\n",
    "            if (i > j && i > k)\n",
    "            {\n",
    "                Console.WriteLine(supe + \"is the longest string\");\n",
    "            }\n",
    "            else if (j > i && j > k)\n",
    "            {\n",
    "                Console.WriteLine(hon + \"is the longest string\");\n",
    "            }\n",
    "            else\n",
    "            {\n",
    "                Console.WriteLine(bab + \"is the longest string\");\n",
    "\n",
    "            }\n",
    "        }\n",
    "    }\n",
    "}\n"
   ]
  },
  {
   "cell_type": "code",
   "execution_count": 2,
   "metadata": {},
   "outputs": [
    {
     "ename": "Unhandled Exception",
     "evalue": "(4,1): error CS7021: Cannot declare namespace in script code",
     "output_type": "error",
     "traceback": [
      "(4,1): error CS7021: Cannot declare namespace in script code"
     ]
    }
   ],
   "source": [
    "// Question 2. Part d\n",
    "using System;\n",
    "using System.Collections.Generic;\n",
    "\n",
    "namespace Problemset1q2\n",
    "{\n",
    "    class NameSort\n",
    "    {\n",
    "        static void Main(string[] args)\n",
    "        {\n",
    "            var composer = new List<string>();\n",
    "            composer.Add(\"Berlioz\");\n",
    "            composer.Add(\"Borodin\");\n",
    "            composer.Add(\"Brian\");\n",
    "            composer.Add(\"Bartok\");\n",
    "            composer.Add(\"Bellini\");\n",
    "            composer.Add(\"Buxtehude\");\n",
    "            composer.Add(\"Bernstein\");\n",
    "            composer.Sort();\n",
    "            foreach(var c in composer) \n",
    "            {\n",
    "                Console.WriteLine(c);\n",
    "            }\n",
    "            \n",
    "      \n",
    "            \n",
    "\n",
    "\n",
    "        }\n",
    "    }\n",
    "}\n"
   ]
  },
  {
   "cell_type": "markdown",
   "metadata": {},
   "source": [
    "Bartok Comes \"First\" and \"Buxtehude\" Comes Last"
   ]
  },
  {
   "cell_type": "code",
   "execution_count": null,
   "metadata": {},
   "outputs": [],
   "source": [
    "// Question 3. Area of Triangle using Heron's Formula\n",
    "using System;\n",
    "\n",
    "\n",
    "namespace Trianglearea\n",
    "{\n",
    "    class Area\n",
    "    {\n",
    "        static void trianglearea(int a, int b,int c)\n",
    "        {\n",
    "            int s = (a + b + c) / 2;\n",
    "            int sub = (s * (s - a) * (s - b) * (s - c));\n",
    "            double area = Math.Sqrt(sub);\n",
    "            Console.WriteLine(\"The Area of the Traingle is  \" + area);\n",
    "\n",
    "\n",
    "        }\n",
    "        static void Main(string[] args)\n",
    "        {\n",
    "            \n",
    "            Console.WriteLine(\"Enter the First value\");\n",
    "           int l= Convert.ToInt32(Console.ReadLine());\n",
    "            Console.WriteLine(\"Enter the Second Value\");\n",
    "           int m= Convert.ToInt32(Console.ReadLine());\n",
    "            Console.WriteLine(\"Enter the Third Value\");\n",
    "            int n = Convert.ToInt32(Console.ReadLine());\n",
    "            trianglearea(l, m, n);\n",
    "\n",
    "\n",
    "            Console.ReadLine();\n",
    "        }\n",
    "    }\n",
    "}\n"
   ]
  },
  {
   "cell_type": "code",
   "execution_count": null,
   "metadata": {},
   "outputs": [],
   "source": [
    "// Question 4. Number array separation into odd and even numbers.\n",
    "using System;\n",
    "using System.Collections.Generic;\n",
    "using System.Linq;\n",
    "    \n",
    "\n",
    "namespace ArraySort\n",
    "{\n",
    "    class Program\n",
    "    {\n",
    "        static void Main(string[] args)\n",
    "        {\n",
    "            Console.WriteLine(\"Enter the length of Array\");\n",
    "            int n= Convert.ToInt32(Console.ReadLine());\n",
    "            int[] arr = new int[n];\n",
    "            List<int> even = new List<int>();\n",
    "            List<int> odd = new List<int>();\n",
    "\n",
    "            for (int i=0;i<n;i++)\n",
    "            {\n",
    "                Console.WriteLine(\"Enter the Number\");\n",
    "                arr[i]=Convert.ToInt32(Console.ReadLine());\n",
    "            }\n",
    "            Console.WriteLine(\"The Numbers You entered are\");\n",
    "            for (int i = 0; i < n; i++)\n",
    "            {\n",
    "                Console.WriteLine(arr[i]);\n",
    "                \n",
    "            }\n",
    "            for(int i=0;i<n;i++)\n",
    "            {\n",
    "\n",
    "            \n",
    "                if((arr[i]%2)==0)\n",
    "                {\n",
    "                    \n",
    "                    even.Add(arr[i]);\n",
    "\n",
    "\n",
    "                }\n",
    "                else\n",
    "                {\n",
    "                    odd.Add(arr[i]);\n",
    "                }\n",
    "            }\n",
    "            int[] evn = even.ToArray();\n",
    "            int[] od = odd.ToArray();\n",
    "            Console.WriteLine(\"The Even numbers are \");\n",
    "            for (int i = 0; i < evn.Length; i++)\n",
    "            {\n",
    "                Console.WriteLine(evn[i]);\n",
    "            }\n",
    "            Console.WriteLine(\"The Odd Numbers are\");\n",
    "            for (int i = 0; i < od.Length; i++)\n",
    "            {\n",
    "                Console.WriteLine(od[i]);\n",
    "            }\n",
    "            Console.ReadLine();\n",
    "        }\n",
    "    }\n",
    "}\n"
   ]
  },
  {
   "cell_type": "code",
   "execution_count": null,
   "metadata": {},
   "outputs": [],
   "source": [
    "//Question 5. To find if given (x,y) in range of Co-ordinates\n",
    "\n",
    "using System;\n",
    "\n",
    "namespace inRange\n",
    "{\n",
    "    class Program\n",
    "    {\n",
    "        static bool inside(Double x, Double y,Double x1,Double y1,Double x2,Double y2)\n",
    "        {\n",
    "            if(x > x1 && x < x2 && y > y1 && y < y2)\n",
    "            {\n",
    "                return true;\n",
    "\n",
    "            }\n",
    "            else\n",
    "            {\n",
    "                return false;\n",
    "            }\n",
    "\n",
    "        }\n",
    "        static void Main(string[] args)\n",
    "        {\n",
    "            Console.WriteLine(\"Enter The X Co-ordinate to be found\");\n",
    "            Double i = Convert.ToDouble(Console.ReadLine());\n",
    "            Console.WriteLine(\"Enter The Y Co-ordinate to be found\");\n",
    "            Double j = Convert.ToDouble(Console.ReadLine());\n",
    "            Console.WriteLine(\"Enter The X Co-ordinate of Lower Left Corner\");\n",
    "            Double k = Convert.ToDouble(Console.ReadLine());\n",
    "            Console.WriteLine(\"Enter The Y Co-ordinate of Lower Left Corner\");\n",
    "            Double l = Convert.ToDouble(Console.ReadLine());\n",
    "            Console.WriteLine(\"Enter The X Co-ordinate of Top Right Corner\");\n",
    "            Double m = Convert.ToDouble(Console.ReadLine());\n",
    "            Console.WriteLine(\"Enter The Y Co-ordinate of Top Right Corner\");\n",
    "            Double n = Convert.ToDouble(Console.ReadLine());\n",
    "            if(inside(i,j,k,l,m,n) is true)\n",
    "            {\n",
    "                Console.WriteLine(\"The Given X and Y Co-ordinates are inside the Rectangle\");\n",
    "\n",
    "            }\n",
    "            else\n",
    "            {\n",
    "                Console.WriteLine(\"The Given X and Y Co-ordinates lie outside the rectangle\");\n",
    "            }\n",
    "            Console.ReadLine();\n",
    "        }\n",
    "    }\n",
    "}\n"
   ]
  },
  {
   "cell_type": "code",
   "execution_count": 1,
   "metadata": {},
   "outputs": [
    {
     "name": "stdout",
     "output_type": "stream",
     "text": [
      "Gimme the word\n",
      "Guy\n",
      "The Pig Latin Form of the word is\n",
      "uygay\n"
     ]
    }
   ],
   "source": [
    "#Question 6 Pig Latin Form\n",
    "word = input(\"Gimme the word\\n\")\n",
    "if(word[0].startswith('A') or word[0].startswith('a') or word[0].startswith('E') or word[0].startswith('e') or word[0].startswith('I')or word[0].startswith('i') or word[0].startswith('O') or word[0].startswith('o') or word[0].startswith('U') or word[0].startswith('u')):\n",
    "        print(\"The Pig Latin Form is\")\n",
    "        print(word.lower()+\"way\")\n",
    "else:\n",
    "    print(\"The Pig Latin Form of the word is\")\n",
    "    print(word[1:].lower()+word[0].lower()+\"ay\")"
   ]
  },
  {
   "cell_type": "code",
   "execution_count": 2,
   "metadata": {},
   "outputs": [
    {
     "name": "stdout",
     "output_type": "stream",
     "text": [
      "{'AB': 13, 'B': 1, 'O': 15, 'A': 15}\n"
     ]
    }
   ],
   "source": [
    "#Question 7 Blood Count function\n",
    "\n",
    "def bldcount(str):\n",
    "    counts = dict()\n",
    "    bld = str.split()\n",
    "\n",
    "    for bl in bld:\n",
    "        if bl in counts:\n",
    "            counts[bl] = counts[bl]+1\n",
    "        else:\n",
    "            counts[bl]=1\n",
    "\n",
    "    return counts\n",
    "file = open(\"F:\\Data Progamming\\Bloodtype.txt\")\n",
    "line = file.read()\n",
    "file.close()\n",
    "print(bldcount(line))"
   ]
  },
  {
   "cell_type": "code",
   "execution_count": 3,
   "metadata": {},
   "outputs": [
    {
     "name": "stdout",
     "output_type": "stream",
     "text": [
      "1. Australian Dollar\n",
      "2. Swiss Franc\n",
      "3. Chinese Yuan\n",
      "4. Danish Krone\n",
      "5. Euro\n",
      "6. British Pound\n",
      "7. Hong Kong Dollar\n",
      "8. Indian Rupee\n",
      "9. Japanese Yen\n",
      "10. Mexican Peso\n",
      "11. Malaysian Ringgit\n",
      "12. Norwegian Krone\n",
      "13. New Zealand Dollar\n",
      "14. Philippine Peso\n",
      "15. Swedish Krona\n",
      "16. Singapore Dollar\n",
      "17. Thai Baht\n",
      "Please Select the corresponding number to your currency\n",
      "8\n",
      "Enter the amount of money500\n",
      "The Amount in US Dollars is 8.88215\n"
     ]
    }
   ],
   "source": [
    "# Question 8 Currency Convertor\n",
    "def currconv(cur, amt):\n",
    "    if cur == \"AUD\":\n",
    "        usd = amt * 1.0345157\n",
    "        print(\"The Amount in US Dollars is  \" +  str(usd))\n",
    "    elif cur == \"CHF\":\n",
    "        usd = amt * 1.0237414\n",
    "        print(\"The Amount in US Dollars is \" + str(usd))\n",
    "    elif cur == \"CNY\":\n",
    "        usd = amt * 0.1550176\n",
    "        print(\"The Amount in US Dollars is \" + str(usd))\n",
    "    elif cur == \"DKK\":\n",
    "        usd = amt * 0.1651442\n",
    "        print(\"The Amount in US Dollars is \" + str(usd))\n",
    "    elif cur == \"EUR\":\n",
    "        usd = amt * 1.2296544\n",
    "        print(\"The Amount in US Dollars is \" + str(usd))\n",
    "    elif cur == \"GBP\":\n",
    "        usd = amt * 1.5550989\n",
    "        print(\"The Amount in US Dollars is \" + str(usd))\n",
    "    elif cur == \"HKD\":\n",
    "        usd = amt * 0.1270207\n",
    "        print(\"The Amount in US Dollars is \" + str(usd))\n",
    "    elif cur == \"INR\":\n",
    "        usd = amt * 0.0177643\n",
    "        print(\"The Amount in US Dollars is \" + str(usd))\n",
    "    elif cur == \"JPY\":\n",
    "        usd = amt * 0.01241401\n",
    "        print(\"The Amount in US Dollars is \" + str(usd))\n",
    "    elif cur == \"MXN\":\n",
    "        usd = amt * 0.0751848\n",
    "        print(\"The Amount in US Dollars is \" + str(usd))\n",
    "    elif cur == \"MYR\":\n",
    "        usd = amt * 0.3145411\n",
    "        print(\"The Amount in US Dollars is \" + str(usd))\n",
    "    elif cur == \"NOK\":\n",
    "        usd = amt * 0.1677063\n",
    "        print(\"The Amount in US Dollars is \" + str(usd))\n",
    "    elif cur == \"NZD\":\n",
    "        usd = amt * 0.8003591\n",
    "        print(\"The Amount in US Dollars is \" + str(usd))\n",
    "    elif cur == \"PHP\":\n",
    "        usd = amt * 0.0233234\n",
    "        print(\"The Amount in US Dollars is \" + str(usd))\n",
    "    elif cur == \"SEK\":\n",
    "        usd = amt * 0.148269\n",
    "        print(\"The Amount in US Dollars is \" + str(usd))\n",
    "    elif cur == \"SGD\":\n",
    "        usd = amt * 0.788871\n",
    "        print(\"The Amount in US Dollars is \" + str(usd))\n",
    "    elif cur == \"THB\":\n",
    "        usd = amt * 0.0313789\n",
    "        print(\"The Amount in US Dollars is \" + str(usd))\n",
    "    else :\n",
    "        return 0\n",
    "curr= None\n",
    "print(\"1. Australian Dollar\")\n",
    "print(\"2. Swiss Franc\")\n",
    "print(\"3. Chinese Yuan\")\n",
    "print(\"4. Danish Krone\")\n",
    "print(\"5. Euro\")\n",
    "print(\"6. British Pound\")\n",
    "print(\"7. Hong Kong Dollar\")\n",
    "print(\"8. Indian Rupee\")\n",
    "print(\"9. Japanese Yen\")\n",
    "print(\"10. Mexican Peso\")\n",
    "print(\"11. Malaysian Ringgit\")\n",
    "print(\"12. Norwegian Krone\")\n",
    "print(\"13. New Zealand Dollar\")\n",
    "print(\"14. Philippine Peso\")\n",
    "print(\"15. Swedish Krona\")\n",
    "print(\"16. Singapore Dollar\")\n",
    "print(\"17. Thai Baht\")\n",
    "opt = input(\"Please Select the corresponding number to your currency\\n\")\n",
    "if opt == \"1\":\n",
    "    curr = \"AUD\"\n",
    "elif opt == \"2\":\n",
    "    curr = \"CHF\"\n",
    "elif opt == \"3\":\n",
    "    curr = \"CNY\"\n",
    "elif opt == \"4\":\n",
    "    curr = \"DKK\"\n",
    "elif opt == \"5\":\n",
    "    curr = \"EUR\"\n",
    "elif opt == \"6\":\n",
    "    curr = \"GBP\"\n",
    "elif opt == \"7\":\n",
    "    curr = \"HKD\"\n",
    "elif opt == \"8\":\n",
    "    curr = \"INR\"\n",
    "elif opt == \"9\":\n",
    "    curr = \"JPY\"\n",
    "elif opt == \"10\":\n",
    "    curr = \"MXN\"\n",
    "elif opt == \"11\":\n",
    "    curr = \"MYR\"\n",
    "elif opt == \"12\":\n",
    "    curr = \"NOK\"\n",
    "elif opt == \"13\":\n",
    "    curr = \"NZD\"\n",
    "elif opt == \"14\":\n",
    "    curr = \"PHP\"\n",
    "elif opt == \"15\":\n",
    "    curr = \"SEK\"\n",
    "elif opt == \"16\":\n",
    "    curr = \"SGD\"\n",
    "elif opt == \"17\":\n",
    "    curr = \"THB\"\n",
    "else:\n",
    "    print(\"Not the desired input\")\n",
    "\n",
    "amount = float(input(\"Enter the amount of money\\n\"))\n",
    "currconv(curr, amount)"
   ]
  },
  {
   "cell_type": "code",
   "execution_count": 10,
   "metadata": {},
   "outputs": [
    {
     "ename": "TypeError",
     "evalue": "unsupported operand type(s) for +: 'int' and 'str'",
     "output_type": "error",
     "traceback": [
      "\u001b[1;31m---------------------------------------------------------------------------\u001b[0m",
      "\u001b[1;31mTypeError\u001b[0m                                 Traceback (most recent call last)",
      "\u001b[1;32m<ipython-input-10-d0de2b91eafe>\u001b[0m in \u001b[0;36m<module>\u001b[1;34m\u001b[0m\n\u001b[0;32m      1\u001b[0m \u001b[1;31m# Question 9. Error Messages in Python.\u001b[0m\u001b[1;33m\u001b[0m\u001b[1;33m\u001b[0m\u001b[1;33m\u001b[0m\u001b[0m\n\u001b[1;32m----> 2\u001b[1;33m \u001b[1;36m6\u001b[0m\u001b[1;33m+\u001b[0m\u001b[1;34m'a'\u001b[0m\u001b[1;33m\u001b[0m\u001b[1;33m\u001b[0m\u001b[0m\n\u001b[0m",
      "\u001b[1;31mTypeError\u001b[0m: unsupported operand type(s) for +: 'int' and 'str'"
     ]
    }
   ],
   "source": [
    "# Question 9. Error Messages in Python.\n",
    "6+'a'\n"
   ]
  },
  {
   "cell_type": "code",
   "execution_count": 11,
   "metadata": {},
   "outputs": [
    {
     "ename": "IndexError",
     "evalue": "list index out of range",
     "output_type": "error",
     "traceback": [
      "\u001b[1;31m---------------------------------------------------------------------------\u001b[0m",
      "\u001b[1;31mIndexError\u001b[0m                                Traceback (most recent call last)",
      "\u001b[1;32m<ipython-input-11-5c649d0016a6>\u001b[0m in \u001b[0;36m<module>\u001b[1;34m\u001b[0m\n\u001b[0;32m      2\u001b[0m \u001b[0mstr1\u001b[0m\u001b[1;33m=\u001b[0m\u001b[1;34m\"a b c d e f g\"\u001b[0m\u001b[1;33m\u001b[0m\u001b[1;33m\u001b[0m\u001b[0m\n\u001b[0;32m      3\u001b[0m \u001b[0mli\u001b[0m\u001b[1;33m=\u001b[0m\u001b[0mlist\u001b[0m\u001b[1;33m(\u001b[0m\u001b[0mstr1\u001b[0m\u001b[1;33m.\u001b[0m\u001b[0msplit\u001b[0m\u001b[1;33m(\u001b[0m\u001b[1;33m)\u001b[0m\u001b[1;33m)\u001b[0m\u001b[1;33m\u001b[0m\u001b[1;33m\u001b[0m\u001b[0m\n\u001b[1;32m----> 4\u001b[1;33m \u001b[0mprint\u001b[0m\u001b[1;33m(\u001b[0m\u001b[0mli\u001b[0m\u001b[1;33m[\u001b[0m\u001b[1;36m8\u001b[0m\u001b[1;33m]\u001b[0m\u001b[1;33m)\u001b[0m\u001b[1;33m\u001b[0m\u001b[1;33m\u001b[0m\u001b[0m\n\u001b[0m",
      "\u001b[1;31mIndexError\u001b[0m: list index out of range"
     ]
    }
   ],
   "source": [
    "# Question 9. Error Messages in Python.\n",
    "str1=\"a b c d e f g\"\n",
    "li=list(str1.split())\n",
    "print(li[8])"
   ]
  },
  {
   "cell_type": "code",
   "execution_count": 12,
   "metadata": {},
   "outputs": [
    {
     "ename": "ValueError",
     "evalue": "math domain error",
     "output_type": "error",
     "traceback": [
      "\u001b[1;31m---------------------------------------------------------------------------\u001b[0m",
      "\u001b[1;31mValueError\u001b[0m                                Traceback (most recent call last)",
      "\u001b[1;32m<ipython-input-12-159621368510>\u001b[0m in \u001b[0;36m<module>\u001b[1;34m\u001b[0m\n\u001b[0;32m      1\u001b[0m \u001b[1;31m# Question 9. Error Messages in Python.\u001b[0m\u001b[1;33m\u001b[0m\u001b[1;33m\u001b[0m\u001b[1;33m\u001b[0m\u001b[0m\n\u001b[0;32m      2\u001b[0m \u001b[1;32mimport\u001b[0m \u001b[0mmath\u001b[0m\u001b[1;33m\u001b[0m\u001b[1;33m\u001b[0m\u001b[0m\n\u001b[1;32m----> 3\u001b[1;33m \u001b[0mmath\u001b[0m\u001b[1;33m.\u001b[0m\u001b[0msqrt\u001b[0m\u001b[1;33m(\u001b[0m\u001b[1;33m-\u001b[0m\u001b[1;36m9\u001b[0m\u001b[1;33m)\u001b[0m\u001b[1;33m\u001b[0m\u001b[1;33m\u001b[0m\u001b[0m\n\u001b[0m",
      "\u001b[1;31mValueError\u001b[0m: math domain error"
     ]
    }
   ],
   "source": [
    "# Question 9. Error Messages in Python.\n",
    "import math\n",
    "math.sqrt(-9)"
   ]
  },
  {
   "cell_type": "code",
   "execution_count": 13,
   "metadata": {},
   "outputs": [
    {
     "ename": "NameError",
     "evalue": "name 'name' is not defined",
     "output_type": "error",
     "traceback": [
      "\u001b[1;31m---------------------------------------------------------------------------\u001b[0m",
      "\u001b[1;31mNameError\u001b[0m                                 Traceback (most recent call last)",
      "\u001b[1;32m<ipython-input-13-f86fd54ebaec>\u001b[0m in \u001b[0;36m<module>\u001b[1;34m\u001b[0m\n\u001b[0;32m      1\u001b[0m \u001b[1;31m# Question 9. Error Messages in Python.\u001b[0m\u001b[1;33m\u001b[0m\u001b[1;33m\u001b[0m\u001b[1;33m\u001b[0m\u001b[0m\n\u001b[1;32m----> 2\u001b[1;33m \u001b[0mprint\u001b[0m\u001b[1;33m(\u001b[0m\u001b[0mname\u001b[0m\u001b[1;33m)\u001b[0m\u001b[1;33m\u001b[0m\u001b[1;33m\u001b[0m\u001b[0m\n\u001b[0m",
      "\u001b[1;31mNameError\u001b[0m: name 'name' is not defined"
     ]
    }
   ],
   "source": [
    "# Question 9. Error Messages in Python.\n",
    "print(name)"
   ]
  },
  {
   "cell_type": "code",
   "execution_count": 14,
   "metadata": {},
   "outputs": [
    {
     "ename": "FileNotFoundError",
     "evalue": "[Errno 2] No such file or directory: 'Bloodtype.txt'",
     "output_type": "error",
     "traceback": [
      "\u001b[1;31m---------------------------------------------------------------------------\u001b[0m",
      "\u001b[1;31mFileNotFoundError\u001b[0m                         Traceback (most recent call last)",
      "\u001b[1;32m<ipython-input-14-2573f7e7335d>\u001b[0m in \u001b[0;36m<module>\u001b[1;34m\u001b[0m\n\u001b[0;32m      1\u001b[0m \u001b[1;31m# Question 9. Error Messages in Python.\u001b[0m\u001b[1;33m\u001b[0m\u001b[1;33m\u001b[0m\u001b[1;33m\u001b[0m\u001b[0m\n\u001b[1;32m----> 2\u001b[1;33m \u001b[0mfile\u001b[0m \u001b[1;33m=\u001b[0m \u001b[0mopen\u001b[0m\u001b[1;33m(\u001b[0m\u001b[1;34m\"Bloodtype.txt\"\u001b[0m\u001b[1;33m)\u001b[0m\u001b[1;33m\u001b[0m\u001b[1;33m\u001b[0m\u001b[0m\n\u001b[0m\u001b[0;32m      3\u001b[0m \u001b[0mline\u001b[0m \u001b[1;33m=\u001b[0m \u001b[0mfile\u001b[0m\u001b[1;33m.\u001b[0m\u001b[0mread\u001b[0m\u001b[1;33m(\u001b[0m\u001b[1;33m)\u001b[0m\u001b[1;33m\u001b[0m\u001b[1;33m\u001b[0m\u001b[0m\n\u001b[0;32m      4\u001b[0m \u001b[0mfile\u001b[0m\u001b[1;33m.\u001b[0m\u001b[0mclose\u001b[0m\u001b[1;33m(\u001b[0m\u001b[1;33m)\u001b[0m\u001b[1;33m\u001b[0m\u001b[1;33m\u001b[0m\u001b[0m\n",
      "\u001b[1;31mFileNotFoundError\u001b[0m: [Errno 2] No such file or directory: 'Bloodtype.txt'"
     ]
    }
   ],
   "source": [
    "# Question 9. Error Messages in Python.\n",
    "file = open(\"Bloodtype.txt\")\n",
    "line = file.read()\n",
    "file.close()"
   ]
  },
  {
   "cell_type": "code",
   "execution_count": 16,
   "metadata": {},
   "outputs": [
    {
     "name": "stdout",
     "output_type": "stream",
     "text": [
      "enter a sentence\n",
      "apple\n",
      "['a', 'p', 'p', 'l', 'e']\n",
      "[1, 0, 0, 0, 1, 0, 0, 0, 0, 0, 0, 1, 0, 0, 0, 2, 0, 0, 0, 0, 0, 0, 0, 0, 0, 0]\n"
     ]
    }
   ],
   "source": [
    "#Question 10 frequency of each letter in a string compared to all cahracters\n",
    "def split(string):\n",
    "    return [cha for cha in string]\n",
    "\n",
    "string = input(\"enter a sentence\\n\")\n",
    "li = split(string)\n",
    "print(li)\n",
    "alphabet = {'a':0, 'b':1, 'c':2, 'd':3, 'e':4, 'f':5, 'g':6, 'h':7,'i':8, 'j':9, 'k':10, 'l':11, 'm':12, 'n':13, 'o':14,'p':15, 'q':16, 'r':17, 's':18, 't':19, 'u':20, 'v':21,'w':22, 'x':23, 'y':24, 'z':25}\n",
    "\n",
    "count = [0,0,0,0,0,0,0,0,0,0,0,0,0,0,0,0,0,0,0,0,0,0,0,0,0,0]\n",
    "\n",
    "for char in string:\n",
    "    if char != ' ':\n",
    "        lowercase = char.lower()\n",
    "        count[alphabet[lowercase]] = count[alphabet[lowercase]] + 1\n",
    "\n",
    "print(count)\n"
   ]
  },
  {
   "cell_type": "markdown",
   "metadata": {},
   "source": [
    "I compiled the C# code in Visual Studio and then copy pasted it onto here. I tried to run the code in Jupyter but it was showing a namespace error. "
   ]
  }
 ],
 "metadata": {
  "kernelspec": {
   "display_name": "Python 3",
   "language": "python",
   "name": "python3"
  },
  "language_info": {
   "codemirror_mode": {
    "name": "ipython",
    "version": 3
   },
   "file_extension": ".py",
   "mimetype": "text/x-python",
   "name": "python",
   "nbconvert_exporter": "python",
   "pygments_lexer": "ipython3",
   "version": "3.8.5"
  }
 },
 "nbformat": 4,
 "nbformat_minor": 4
}
